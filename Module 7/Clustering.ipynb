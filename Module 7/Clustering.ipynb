{
 "metadata": {
  "language_info": {
   "codemirror_mode": {
    "name": "ipython",
    "version": 3
   },
   "file_extension": ".py",
   "mimetype": "text/x-python",
   "name": "python",
   "nbconvert_exporter": "python",
   "pygments_lexer": "ipython3",
   "version": 3
  },
  "orig_nbformat": 2,
  "kernelspec": {
   "name": "python_defaultSpec_1596910844701",
   "display_name": "Python 3.7.6 64-bit ('base': conda)"
  }
 },
 "nbformat": 4,
 "nbformat_minor": 2,
 "cells": [
  {
   "cell_type": "markdown",
   "metadata": {},
   "source": [
    "# Library Import"
   ]
  },
  {
   "cell_type": "code",
   "execution_count": 1,
   "metadata": {},
   "outputs": [],
   "source": [
    "import numpy as np\n",
    "import pandas as pd\n",
    "import copy"
   ]
  },
  {
   "cell_type": "markdown",
   "metadata": {},
   "source": [
    "# Loading the data"
   ]
  },
  {
   "cell_type": "code",
   "execution_count": 2,
   "metadata": {},
   "outputs": [
    {
     "output_type": "execute_result",
     "data": {
      "text/plain": "   variance of Wavelet Transformed image  \\\n0                                3.62160   \n1                                4.54590   \n2                                3.86600   \n3                                3.45660   \n4                                0.32924   \n\n   skewness of Wavelet Transformed image  \\\n0                                 8.6661   \n1                                 8.1674   \n2                                -2.6383   \n3                                 9.5228   \n4                                -4.4552   \n\n   curtosis of Wavelet Transformed image  entropy of image  class  \n0                                -2.8073          -0.44699      0  \n1                                -2.4586          -1.46210      0  \n2                                 1.9242           0.10645      0  \n3                                -4.0112          -3.59440      0  \n4                                 4.5718          -0.98880      0  ",
      "text/html": "<div>\n<style scoped>\n    .dataframe tbody tr th:only-of-type {\n        vertical-align: middle;\n    }\n\n    .dataframe tbody tr th {\n        vertical-align: top;\n    }\n\n    .dataframe thead th {\n        text-align: right;\n    }\n</style>\n<table border=\"1\" class=\"dataframe\">\n  <thead>\n    <tr style=\"text-align: right;\">\n      <th></th>\n      <th>variance of Wavelet Transformed image</th>\n      <th>skewness of Wavelet Transformed image</th>\n      <th>curtosis of Wavelet Transformed image</th>\n      <th>entropy of image</th>\n      <th>class</th>\n    </tr>\n  </thead>\n  <tbody>\n    <tr>\n      <th>0</th>\n      <td>3.62160</td>\n      <td>8.6661</td>\n      <td>-2.8073</td>\n      <td>-0.44699</td>\n      <td>0</td>\n    </tr>\n    <tr>\n      <th>1</th>\n      <td>4.54590</td>\n      <td>8.1674</td>\n      <td>-2.4586</td>\n      <td>-1.46210</td>\n      <td>0</td>\n    </tr>\n    <tr>\n      <th>2</th>\n      <td>3.86600</td>\n      <td>-2.6383</td>\n      <td>1.9242</td>\n      <td>0.10645</td>\n      <td>0</td>\n    </tr>\n    <tr>\n      <th>3</th>\n      <td>3.45660</td>\n      <td>9.5228</td>\n      <td>-4.0112</td>\n      <td>-3.59440</td>\n      <td>0</td>\n    </tr>\n    <tr>\n      <th>4</th>\n      <td>0.32924</td>\n      <td>-4.4552</td>\n      <td>4.5718</td>\n      <td>-0.98880</td>\n      <td>0</td>\n    </tr>\n  </tbody>\n</table>\n</div>"
     },
     "metadata": {},
     "execution_count": 2
    }
   ],
   "source": [
    "data = pd.read_csv(\"banknote-dataset.csv\")\n",
    "data.head()"
   ]
  },
  {
   "cell_type": "code",
   "execution_count": 3,
   "metadata": {},
   "outputs": [],
   "source": [
    "x = data.iloc[:,:4]\n",
    "y = data.iloc[:,4]"
   ]
  },
  {
   "cell_type": "markdown",
   "metadata": {},
   "source": [
    "# Kmeans Algorithm from Scratch"
   ]
  },
  {
   "cell_type": "code",
   "execution_count": 5,
   "metadata": {},
   "outputs": [],
   "source": [
    "class K_means:\n",
    "    def __init__(self,dim,k,threshold):\n",
    "        self.dim = dim\n",
    "        self.k = k\n",
    "        self.threshold = threshold\n",
    "        self.__create_cluster()\n",
    "\n",
    "    def __create_cluster(self):\n",
    "        self.k_info ={}\n",
    "        for each_k in range(self.k):\n",
    "            self.k_info.update({each_k:{'mean':0,'var':0}})\n",
    "\n",
    "    def predict(self,data):\n",
    "        self.data = np.hstack((data.to_numpy(),np.zeros(len(data)).reshape(-1,1)))\n",
    "        centeroids = np.random.randint(0,len(data),self.k)\n",
    "        centeroids = [self.data[cent,:-1] for cent in centeroids]\n",
    "\n",
    "        i=0\n",
    "        while i<1e5:\n",
    "            for point in self.data:\n",
    "                dist = []\n",
    "                for index in range(len(centeroids)):\n",
    "                    dist.append(self.__get_dist(centeroids[index], point[:-1]))\n",
    "                cluster_id = np.argmin(dist)\n",
    "                point[-1] = cluster_id\n",
    "                self.__calc_mean()\n",
    "                centeroids[cluster_id] = self.k_info[cluster_id]['mean']\n",
    "            hist = copy.deepcopy(self.k_info)\n",
    "            self.__update_var()\n",
    "            i+=1\n",
    "            if self.__check_var(hist):\n",
    "                break\n",
    "        return self.data\n",
    "            \n",
    "\n",
    "    def __calc_mean(self):\n",
    "        for k in range(self.k):\n",
    "            mem = self.data[self.data[:,-1]==k, :-1]\n",
    "            mean = np.mean(mem,axis=0)\n",
    "            self.k_info[k]['mean'] = mean\n",
    "        \n",
    "    \n",
    "    def __update_var(self):\n",
    "        for k in range(self.k):\n",
    "            mem = self.data[self.data[:,-1]==k, :-1]\n",
    "            var = np.var(mem)\n",
    "            self.k_info[k]['var'] = var\n",
    "\n",
    "    def __check_var(self, hist):\n",
    "        for k in range(self.k):\n",
    "            if np.abs(self.k_info[k]['var']-hist[k]['var']) <= np.abs(self.threshold):\n",
    "                return True\n",
    "        return False\n",
    "\n",
    "        \n",
    "\n",
    "    def __get_dist(self,p1,p2):\n",
    "        return np.sqrt(np.sum(np.power((p1-p2),2)))\n"
   ]
  },
  {
   "cell_type": "markdown",
   "metadata": {},
   "source": [
    "# Initialization and predictions"
   ]
  },
  {
   "cell_type": "code",
   "execution_count": 7,
   "metadata": {
    "tags": []
   },
   "outputs": [],
   "source": [
    "predictor = K_means(4,2,1e-10)\n",
    "\n",
    "res = predictor.predict(x)[:,-1]"
   ]
  },
  {
   "cell_type": "code",
   "execution_count": 8,
   "metadata": {},
   "outputs": [
    {
     "output_type": "execute_result",
     "data": {
      "text/plain": "array([[570, 192],\n       [340, 270]])"
     },
     "metadata": {},
     "execution_count": 8
    }
   ],
   "source": [
    "from sklearn.metrics import confusion_matrix\n",
    "\n",
    "confusion_matrix(y,res)"
   ]
  },
  {
   "cell_type": "markdown",
   "metadata": {},
   "source": [
    "# Using Sklearn Library Function"
   ]
  },
  {
   "cell_type": "code",
   "execution_count": 10,
   "metadata": {},
   "outputs": [],
   "source": [
    "from sklearn.cluster import KMeans\n",
    "\n",
    "km = KMeans(\n",
    "    n_clusters=2, init='random',\n",
    "    n_init=10, max_iter=300, \n",
    "    tol=1e-04, random_state=0\n",
    ")\n",
    "\n",
    "y_km = km.fit_predict(x)"
   ]
  },
  {
   "cell_type": "code",
   "execution_count": 11,
   "metadata": {},
   "outputs": [
    {
     "output_type": "execute_result",
     "data": {
      "text/plain": "array([[570, 192],\n       [340, 270]])"
     },
     "metadata": {},
     "execution_count": 11
    }
   ],
   "source": [
    "confusion_matrix(y,y_km)"
   ]
  },
  {
   "cell_type": "code",
   "execution_count": null,
   "metadata": {},
   "outputs": [],
   "source": []
  }
 ]
}