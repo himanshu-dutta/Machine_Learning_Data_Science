{
 "cells": [
  {
   "cell_type": "code",
   "execution_count": 1,
   "metadata": {
    "tags": []
   },
   "outputs": [],
   "source": [
    "import numpy as np\n",
    "import pandas as pd\n",
    "import matplotlib.pyplot as plt\n",
    "from sklearn.metrics import r2_score,mean_squared_error\n",
    "%matplotlib inline"
   ]
  },
  {
   "cell_type": "markdown",
   "metadata": {},
   "source": [
    "# Model Structure"
   ]
  },
  {
   "cell_type": "code",
   "execution_count": 2,
   "metadata": {},
   "outputs": [],
   "source": [
    "class kNN_Classifier:\n",
    "    __k = None\n",
    "    __X = None\n",
    "    __Y = None\n",
    "    def __init__(self,k):\n",
    "        self.__k = k\n",
    "    def __distance(self,x,y):\n",
    "        return (np.sqrt(np.sum((x.reshape(1,-1)-y.reshape(-1,y.shape[1]))**2,axis=1)))\n",
    "    def fit(self,X,Y):\n",
    "        assert 'numpy.ndarray' in str(type(X))\n",
    "        assert 'numpy.ndarray' in str(type(Y))\n",
    "        self.__X = X; self.__Y = Y;\n",
    "        print('**Model Fitted**')\n",
    "    def predict(self,X_t):\n",
    "        Y_t = []\n",
    "        assert 'numpy.ndarray' in str(type(X_t))\n",
    "        for i in range(X_t.shape[0]):\n",
    "            e_dist = self.__distance(X_t[i],self.__X)\n",
    "            dist_label = np.hstack([e_dist.reshape(-1,1),self.__Y.reshape(-1,1)])\n",
    "            dist_label = np.array(sorted(dist_label,key=lambda x: x[0]))\n",
    "            top_k = dist_label[:self.__k,1]\n",
    "            label = np.unique(top_k)[np.argmax(np.unique(top_k,return_counts=True)[1])]\n",
    "            Y_t.append(label)\n",
    "            self.__X = np.vstack([self.__X,X_t[i]])\n",
    "            self.__Y = np.vstack([self.__Y.reshape(-1,1),np.array(label).reshape(-1,1)])\n",
    "        return np.array(Y_t)"
   ]
  },
  {
   "cell_type": "markdown",
   "metadata": {},
   "source": [
    "# Looking at the data"
   ]
  },
  {
   "cell_type": "code",
   "execution_count": 3,
   "metadata": {
    "tags": []
   },
   "outputs": [
    {
     "output_type": "stream",
     "name": "stdout",
     "text": "variance of Wavelet Transformed image  \\\n0                                3.62160   \n1                                4.54590   \n2                                3.86600   \n3                                3.45660   \n4                                0.32924   \n\n   skewness of Wavelet Transformed image  \\\n0                                 8.6661   \n1                                 8.1674   \n2                                -2.6383   \n3                                 9.5228   \n4                                -4.4552   \n\n   curtosis of Wavelet Transformed image  entropy of image  class  \n0                                -2.8073          -0.44699      0  \n1                                -2.4586          -1.46210      0  \n2                                 1.9242           0.10645      0  \n3                                -4.0112          -3.59440      0  \n4                                 4.5718          -0.98880      0  \n<class 'pandas.core.frame.DataFrame'>\nRangeIndex: 1372 entries, 0 to 1371\nData columns (total 5 columns):\n #   Column                                 Non-Null Count  Dtype  \n---  ------                                 --------------  -----  \n 0   variance of Wavelet Transformed image  1372 non-null   float64\n 1   skewness of Wavelet Transformed image  1372 non-null   float64\n 2   curtosis of Wavelet Transformed image  1372 non-null   float64\n 3   entropy of image                       1372 non-null   float64\n 4   class                                  1372 non-null   int64  \ndtypes: float64(4), int64(1)\nmemory usage: 53.7 KB\nNone\n"
    }
   ],
   "source": [
    "data = pd.read_csv('banknote-dataset.csv')\n",
    "print(data.head())\n",
    "print(data.info())"
   ]
  },
  {
   "cell_type": "markdown",
   "metadata": {},
   "source": [
    "# Data Preprocessing"
   ]
  },
  {
   "cell_type": "code",
   "execution_count": 4,
   "metadata": {},
   "outputs": [],
   "source": [
    "X = data.drop(['class'],axis=1).to_numpy()\n",
    "Y = data['class'].to_numpy()"
   ]
  },
  {
   "cell_type": "code",
   "execution_count": 8,
   "metadata": {},
   "outputs": [],
   "source": [
    "from sklearn.model_selection import train_test_split\n",
    "from sklearn.preprocessing import StandardScaler\n",
    "ss = StandardScaler()\n",
    "X_scaled = ss.fit_transform(X)\n",
    "X_train, X_test, Y_train, Y_test = train_test_split(X_scaled,Y,test_size=0.25,shuffle=True)"
   ]
  },
  {
   "cell_type": "markdown",
   "metadata": {},
   "source": [
    "# Model Training"
   ]
  },
  {
   "cell_type": "code",
   "execution_count": 9,
   "metadata": {
    "tags": []
   },
   "outputs": [
    {
     "output_type": "stream",
     "name": "stdout",
     "text": "**Model Fitted**\n"
    }
   ],
   "source": [
    "c_model = kNN_Classifier(5)\n",
    "c_model.fit(X_train,Y_train)\n",
    "Y_p = c_model.predict(X_test)"
   ]
  },
  {
   "cell_type": "markdown",
   "metadata": {},
   "source": [
    "# Model Testing"
   ]
  },
  {
   "cell_type": "code",
   "execution_count": 10,
   "metadata": {},
   "outputs": [
    {
     "output_type": "execute_result",
     "data": {
      "text/plain": "array([[192,   0],\n       [  0, 151]])"
     },
     "metadata": {},
     "execution_count": 10
    }
   ],
   "source": [
    "from sklearn.metrics import confusion_matrix\n",
    "confusion_matrix(Y_test,Y_p)"
   ]
  },
  {
   "cell_type": "code",
   "execution_count": null,
   "metadata": {},
   "outputs": [],
   "source": []
  }
 ],
 "metadata": {
  "kernelspec": {
   "display_name": "Python 3",
   "language": "python",
   "name": "python3"
  },
  "language_info": {
   "codemirror_mode": {
    "name": "ipython",
    "version": 3
   },
   "file_extension": ".py",
   "mimetype": "text/x-python",
   "name": "python",
   "nbconvert_exporter": "python",
   "pygments_lexer": "ipython3",
   "version": "3.7.4"
  }
 },
 "nbformat": 4,
 "nbformat_minor": 4
}